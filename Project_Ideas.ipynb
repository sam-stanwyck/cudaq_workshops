{
 "cells": [
  {
   "cell_type": "markdown",
   "id": "745fd59a-3e8a-4cf6-bc77-5c4cc9b40e86",
   "metadata": {},
   "source": [
    "### Potential projects\n",
    "\n",
    "-  Run one of the MQPU examples on ABCI.\n",
    "\n",
    "-  Interface the cudaq.observe call with the SLSQP optimizer from scipy.\n",
    "\n",
    "-  Use the VQE H2 example from the docs and adapt it for LiH. Try different initializations as well as optimizers from other libraries. What parallelization technique can you use here?\n",
    "\n",
    "-  Create an Ising Hamiltonian simulation. Try various scaling techniques.\n",
    "\n",
    "-  Implement the QMCMC algorithm from this paper.\n",
    "    https://arxiv.org/abs/2203.12497\n",
    "\n",
    "-  For the qnn example, code up a function to perform gradient descent by shifting parameters individually rather than simultaneously and compare the number of circuit evaluations as a function of epochs for both approaches. \n",
    "\n",
    "-  Demonstrate the barren plateau phenomena - show that as you increase qubit sizes, the variance in the gradient decreases. \\\n",
    " https://arxiv.org/abs/1803.11173\n",
    "\n",
    "-  Evaluate the implementation of the quantum natural gradient optimization technique to accelerate VQE convergence. \\\n",
    "  https://arxiv.org/abs/1909.02108\n",
    "\n",
    "-  Using a parameterized quantum circuit and a neural network, create a hybrid quantum GAN. \n",
    "https://arxiv.org/abs/2212.11614 \\\n",
    "https://pennylane.ai/qml/demos/tutorial_QGAN.html \\\n",
    "https://pennylane.ai/qml/demos/tutorial_quantum_gans.html \n",
    "\n",
    "-  Circuit cutting is a powerful tool for running large quantum circuits on small computers. Implement this in CUDA Quantum. \\\n",
    "https://arxiv.org/abs/2012.02333\n",
    "\n",
    "-  Modify the qnn example, use a sci-kit learn dataset and implement the data reupload technique. \n",
    "https://arxiv.org/abs/1907.02085 \n",
    "\n",
    "-  Classical shadows is a powerful technique to reconstruct quantum states by measuring the circuit in random bases and postprocessing the data. Implement this in CUDA Quantum. \n",
    "https://arxiv.org/abs/2002.08953 \\\n",
    "https://pennylane.ai/qml/demos/tutorial_classical_shadows.html \n"
   ]
  }
 ],
 "metadata": {
  "kernelspec": {
   "display_name": "Python 3 (ipykernel)",
   "language": "python",
   "name": "python3"
  },
  "language_info": {
   "codemirror_mode": {
    "name": "ipython",
    "version": 3
   },
   "file_extension": ".py",
   "mimetype": "text/x-python",
   "name": "python",
   "nbconvert_exporter": "python",
   "pygments_lexer": "ipython3",
   "version": "3.10.12"
  }
 },
 "nbformat": 4,
 "nbformat_minor": 5
}
