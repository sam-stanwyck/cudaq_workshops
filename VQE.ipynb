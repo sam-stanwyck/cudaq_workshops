{
 "cells": [
  {
   "cell_type": "code",
   "execution_count": 12,
   "id": "2d31aa88-13bd-453b-bca9-792382846298",
   "metadata": {},
   "outputs": [
    {
     "name": "stdout",
     "output_type": "stream",
     "text": [
      "Defaulting to user installation because normal site-packages is not writeable\n",
      "Requirement already satisfied: openfermionpyscf in /home/acf16133sf/.local/lib/python3.10/site-packages (0.5)\n",
      "Requirement already satisfied: pyscf in /home/acf16133sf/.local/lib/python3.10/site-packages (from openfermionpyscf) (2.4.0)\n",
      "Requirement already satisfied: pytest in /home/acf16133sf/.local/lib/python3.10/site-packages (from openfermionpyscf) (7.4.3)\n",
      "Requirement already satisfied: openfermion>=0.5 in /home/acf16133sf/.local/lib/python3.10/site-packages (from openfermionpyscf) (1.6.0)\n",
      "Requirement already satisfied: cirq-core~=1.0 in /home/acf16133sf/.local/lib/python3.10/site-packages (from openfermion>=0.5->openfermionpyscf) (1.2.0)\n",
      "Requirement already satisfied: sympy in /home/acf16133sf/.local/lib/python3.10/site-packages (from openfermion>=0.5->openfermionpyscf) (1.12)\n",
      "Requirement already satisfied: networkx in /home/acf16133sf/.local/lib/python3.10/site-packages (from openfermion>=0.5->openfermionpyscf) (3.2.1)\n",
      "Requirement already satisfied: h5py>=2.8 in /home/acf16133sf/.local/lib/python3.10/site-packages (from openfermion>=0.5->openfermionpyscf) (3.10.0)\n",
      "Requirement already satisfied: numpy>=1.11.0 in /home/acf16133sf/.local/lib/python3.10/site-packages (from openfermion>=0.5->openfermionpyscf) (1.25.2)\n",
      "Requirement already satisfied: deprecation in /home/acf16133sf/.local/lib/python3.10/site-packages (from openfermion>=0.5->openfermionpyscf) (2.1.0)\n",
      "Requirement already satisfied: pubchempy in /home/acf16133sf/.local/lib/python3.10/site-packages (from openfermion>=0.5->openfermionpyscf) (1.0.4)\n",
      "Requirement already satisfied: scipy<1.10.0,>=1.1.0 in /home/acf16133sf/.local/lib/python3.10/site-packages (from openfermion>=0.5->openfermionpyscf) (1.9.3)\n",
      "Requirement already satisfied: requests>=2.18 in /usr/local/lib/python3.10/dist-packages (from openfermion>=0.5->openfermionpyscf) (2.31.0)\n",
      "Requirement already satisfied: setuptools in /usr/lib/python3/dist-packages (from pyscf->openfermionpyscf) (59.6.0)\n",
      "Requirement already satisfied: packaging in /usr/local/lib/python3.10/dist-packages (from pytest->openfermionpyscf) (23.2)\n",
      "Requirement already satisfied: pluggy<2.0,>=0.12 in /home/acf16133sf/.local/lib/python3.10/site-packages (from pytest->openfermionpyscf) (1.3.0)\n",
      "Requirement already satisfied: iniconfig in /home/acf16133sf/.local/lib/python3.10/site-packages (from pytest->openfermionpyscf) (2.0.0)\n",
      "Requirement already satisfied: exceptiongroup>=1.0.0rc8 in /usr/local/lib/python3.10/dist-packages (from pytest->openfermionpyscf) (1.1.3)\n",
      "Requirement already satisfied: tomli>=1.0.0 in /usr/local/lib/python3.10/dist-packages (from pytest->openfermionpyscf) (2.0.1)\n",
      "Requirement already satisfied: duet~=0.2.8 in /home/acf16133sf/.local/lib/python3.10/site-packages (from cirq-core~=1.0->openfermion>=0.5->openfermionpyscf) (0.2.9)\n",
      "Requirement already satisfied: pandas in /home/acf16133sf/.local/lib/python3.10/site-packages (from cirq-core~=1.0->openfermion>=0.5->openfermionpyscf) (2.1.3)\n",
      "Requirement already satisfied: matplotlib~=3.0 in /usr/local/lib/python3.10/dist-packages (from cirq-core~=1.0->openfermion>=0.5->openfermionpyscf) (3.8.2)\n",
      "Requirement already satisfied: sortedcontainers~=2.0 in /home/acf16133sf/.local/lib/python3.10/site-packages (from cirq-core~=1.0->openfermion>=0.5->openfermionpyscf) (2.4.0)\n",
      "Requirement already satisfied: tqdm in /home/acf16133sf/.local/lib/python3.10/site-packages (from cirq-core~=1.0->openfermion>=0.5->openfermionpyscf) (4.66.1)\n",
      "Requirement already satisfied: typing-extensions>=4.2 in /usr/local/lib/python3.10/dist-packages (from cirq-core~=1.0->openfermion>=0.5->openfermionpyscf) (4.8.0)\n",
      "Requirement already satisfied: urllib3<3,>=1.21.1 in /usr/local/lib/python3.10/dist-packages (from requests>=2.18->openfermion>=0.5->openfermionpyscf) (2.1.0)\n",
      "Requirement already satisfied: idna<4,>=2.5 in /usr/local/lib/python3.10/dist-packages (from requests>=2.18->openfermion>=0.5->openfermionpyscf) (3.4)\n",
      "Requirement already satisfied: certifi>=2017.4.17 in /usr/local/lib/python3.10/dist-packages (from requests>=2.18->openfermion>=0.5->openfermionpyscf) (2023.11.17)\n",
      "Requirement already satisfied: charset-normalizer<4,>=2 in /usr/local/lib/python3.10/dist-packages (from requests>=2.18->openfermion>=0.5->openfermionpyscf) (3.3.2)\n",
      "Requirement already satisfied: mpmath>=0.19 in /home/acf16133sf/.local/lib/python3.10/site-packages (from sympy->openfermion>=0.5->openfermionpyscf) (1.3.0)\n",
      "Requirement already satisfied: cycler>=0.10 in /usr/local/lib/python3.10/dist-packages (from matplotlib~=3.0->cirq-core~=1.0->openfermion>=0.5->openfermionpyscf) (0.12.1)\n",
      "Requirement already satisfied: fonttools>=4.22.0 in /usr/local/lib/python3.10/dist-packages (from matplotlib~=3.0->cirq-core~=1.0->openfermion>=0.5->openfermionpyscf) (4.44.3)\n",
      "Requirement already satisfied: pyparsing>=2.3.1 in /usr/local/lib/python3.10/dist-packages (from matplotlib~=3.0->cirq-core~=1.0->openfermion>=0.5->openfermionpyscf) (3.1.1)\n",
      "Requirement already satisfied: kiwisolver>=1.3.1 in /usr/local/lib/python3.10/dist-packages (from matplotlib~=3.0->cirq-core~=1.0->openfermion>=0.5->openfermionpyscf) (1.4.5)\n",
      "Requirement already satisfied: python-dateutil>=2.7 in /usr/local/lib/python3.10/dist-packages (from matplotlib~=3.0->cirq-core~=1.0->openfermion>=0.5->openfermionpyscf) (2.8.2)\n",
      "Requirement already satisfied: pillow>=8 in /usr/local/lib/python3.10/dist-packages (from matplotlib~=3.0->cirq-core~=1.0->openfermion>=0.5->openfermionpyscf) (10.1.0)\n",
      "Requirement already satisfied: contourpy>=1.0.1 in /usr/local/lib/python3.10/dist-packages (from matplotlib~=3.0->cirq-core~=1.0->openfermion>=0.5->openfermionpyscf) (1.2.0)\n",
      "Requirement already satisfied: pytz>=2020.1 in /home/acf16133sf/.local/lib/python3.10/site-packages (from pandas->cirq-core~=1.0->openfermion>=0.5->openfermionpyscf) (2023.3.post1)\n",
      "Requirement already satisfied: tzdata>=2022.1 in /home/acf16133sf/.local/lib/python3.10/site-packages (from pandas->cirq-core~=1.0->openfermion>=0.5->openfermionpyscf) (2023.3)\n",
      "Requirement already satisfied: six>=1.5 in /usr/local/lib/python3.10/dist-packages (from python-dateutil>=2.7->matplotlib~=3.0->cirq-core~=1.0->openfermion>=0.5->openfermionpyscf) (1.16.0)\n",
      "Note: you may need to restart the kernel to use updated packages.\n"
     ]
    }
   ],
   "source": [
    "pip install openfermionpyscf"
   ]
  },
  {
   "cell_type": "code",
   "execution_count": 26,
   "id": "4c4794f5-6f74-4cb6-ab80-44746dc7d477",
   "metadata": {},
   "outputs": [
    {
     "name": "stdout",
     "output_type": "stream",
     "text": [
      "env: CUDAQ_LOG_LEVEL=info\n"
     ]
    }
   ],
   "source": [
    "%env CUDAQ_LOG_LEVEL=info"
   ]
  },
  {
   "cell_type": "code",
   "execution_count": 27,
   "id": "caf7acb6-76f9-4bf7-909d-84731faed23c",
   "metadata": {},
   "outputs": [
    {
     "data": {
      "text/plain": [
       "{'SHELL': '/bin/bash',\n",
       " 'NV_LIBCUBLAS_VERSION': '11.11.3.6-1',\n",
       " 'NVIDIA_VISIBLE_DEVICES': 'all',\n",
       " 'UCX_INSTALL_PREFIX': '/usr/local/ucx',\n",
       " 'SGE_RERUN_JOB': '0',\n",
       " 'SGE_O_SHELL': '/bin/bash',\n",
       " 'HISTCONTROL': 'ignoredups',\n",
       " 'CUQUANTUM_INSTALL_PREFIX': '/opt/nvidia/cuquantum',\n",
       " 'HOSTNAME': 'g0225.abci.local',\n",
       " 'HISTSIZE': '1000',\n",
       " 'SINGULARITY_NAME': 'cuda-quantum_0.5.0.sif',\n",
       " 'SGE_O_HOME': '/home/acf16133sf',\n",
       " 'SGE_ROOT': '/home/system/uge/latest',\n",
       " 'JOB_SCRIPT': 'QRLOGIN',\n",
       " 'SGE_ACCOUNT': 'gae50954',\n",
       " 'SGE_JOB_SERVICE_TYPE': 'On-demand',\n",
       " 'NVIDIA_REQUIRE_CUDA': 'cuda>=11.8 brand=tesla,driver>=470,driver<471 brand=unknown,driver>=470,driver<471 brand=nvidia,driver>=470,driver<471 brand=nvidiartx,driver>=470,driver<471 brand=geforce,driver>=470,driver<471 brand=geforcertx,driver>=470,driver<471 brand=quadro,driver>=470,driver<471 brand=quadrortx,driver>=470,driver<471 brand=titan,driver>=470,driver<471 brand=titanrtx,driver>=470,driver<471',\n",
       " 'NV_NVTX_VERSION': '11.8.86-1',\n",
       " 'MODULES_LMCONFLICT': 'singularitypro/3.9&singularitypro&singularity',\n",
       " 'UCX_IB_PCI_RELAXED_ORDERING': 'on',\n",
       " 'SGE_RERUN_REQUESTED': '2',\n",
       " 'SGE_HGR_TASK_rt_Glarge': '0',\n",
       " 'OMPI_MCA_btl': '^smcuda,vader,tcp,uct,openib',\n",
       " 'SGE_O_LOGNAME': 'acf16133sf',\n",
       " '_LMFILES__modshare': '/apps/modules/modulefiles/rocky8/utils/singularitypro/3.9:1',\n",
       " 'NV_LIBCUSPARSE_VERSION': '11.7.5.86-1',\n",
       " 'QRSH_COMMAND': '/var/spool/uge/execd/g0225/job_scripts/41064873',\n",
       " 'NV_LIBNPP_VERSION': '11.8.0.86-1',\n",
       " 'SGE_JOB_HOSTLIST': '/var/spool/uge/execd/g0225/active_jobs/41064873.1/hostlist',\n",
       " 'SINGULARITY_ENVIRONMENT': '/.singularity.d/env/91-environment.sh',\n",
       " 'NCCL_VERSION': '2.15.5-1',\n",
       " 'USE_SYSTEMD': 'true',\n",
       " 'SGE_HGR_TASK_rt_F': '0',\n",
       " 'PE_HOSTFILE': '/var/spool/uge/execd/g0225/active_jobs/41064873.1/pe_hostfile',\n",
       " 'CUQUANTUM_ROOT': '/opt/nvidia/cuquantum',\n",
       " 'PWD': '/home/acf16133sf',\n",
       " 'SGE_RSH_COMMAND': 'builtin',\n",
       " 'LOGNAME': 'acf16133sf',\n",
       " 'MODULESHOME': '/usr/share/Modules',\n",
       " 'NVIDIA_DRIVER_CAPABILITIES': 'compute,utility',\n",
       " 'MANPATH': '/home/system/uge/latest/man::',\n",
       " 'NV_LIBNPP_PACKAGE': 'libnpp-11-8=11.8.0.86-1',\n",
       " 'SGE_RESOURCE_TYPE': 'rt_F',\n",
       " 'OMPI_MCA_pml': 'ucx',\n",
       " 'SGE_STDOUT_PATH': '/dev/null',\n",
       " 'NQUEUES': '1',\n",
       " 'SGE_O_HOST': 'es1',\n",
       " 'NVIDIA_PRODUCT_NAME': 'CUDA',\n",
       " 'USER_PATH': '/usr/share/Modules/bin:/tmp/41064873.1.gpu:/usr/local/bin:/bin:/usr/bin:/usr/local/sbin:/usr/sbin:/home/system/uge/latest/bin/lx-amd64:/home/acf16133sf/.local/bin:/home/acf16133sf/bin:/bin:/usr/bin:/sbin:/usr/sbin:/usr/local/bin:/usr/local/sbin',\n",
       " 'SGE_HGR_TASK_rt_Clarge': '0',\n",
       " 'MPI_HOME': '/usr/local/openmpi',\n",
       " 'SGE_WALLTIME_SEC': '28800',\n",
       " 'NV_CUDA_CUDART_VERSION': '11.8.89-1',\n",
       " 'MPI_PATH': '/usr/local/openmpi',\n",
       " 'HOME': '/home/acf16133sf',\n",
       " 'SSH_ASKPASS': '/usr/libexec/openssh/gnome-ssh-askpass',\n",
       " 'LANG': 'C.UTF-8',\n",
       " 'SGE_HGR_rt_Glarge': '0',\n",
       " 'LS_COLORS': 'rs=0:di=38;5;33:ln=38;5;51:mh=00:pi=40;38;5;11:so=38;5;13:do=38;5;5:bd=48;5;232;38;5;11:cd=48;5;232;38;5;3:or=48;5;232;38;5;9:mi=01;05;37;41:su=48;5;196;38;5;15:sg=48;5;11;38;5;16:ca=48;5;196;38;5;226:tw=48;5;10;38;5;16:ow=48;5;10;38;5;21:st=48;5;21;38;5;15:ex=38;5;40:*.tar=38;5;9:*.tgz=38;5;9:*.arc=38;5;9:*.arj=38;5;9:*.taz=38;5;9:*.lha=38;5;9:*.lz4=38;5;9:*.lzh=38;5;9:*.lzma=38;5;9:*.tlz=38;5;9:*.txz=38;5;9:*.tzo=38;5;9:*.t7z=38;5;9:*.zip=38;5;9:*.z=38;5;9:*.dz=38;5;9:*.gz=38;5;9:*.lrz=38;5;9:*.lz=38;5;9:*.lzo=38;5;9:*.xz=38;5;9:*.zst=38;5;9:*.tzst=38;5;9:*.bz2=38;5;9:*.bz=38;5;9:*.tbz=38;5;9:*.tbz2=38;5;9:*.tz=38;5;9:*.deb=38;5;9:*.rpm=38;5;9:*.jar=38;5;9:*.war=38;5;9:*.ear=38;5;9:*.sar=38;5;9:*.rar=38;5;9:*.alz=38;5;9:*.ace=38;5;9:*.zoo=38;5;9:*.cpio=38;5;9:*.7z=38;5;9:*.rz=38;5;9:*.cab=38;5;9:*.wim=38;5;9:*.swm=38;5;9:*.dwm=38;5;9:*.esd=38;5;9:*.jpg=38;5;13:*.jpeg=38;5;13:*.mjpg=38;5;13:*.mjpeg=38;5;13:*.gif=38;5;13:*.bmp=38;5;13:*.pbm=38;5;13:*.pgm=38;5;13:*.ppm=38;5;13:*.tga=38;5;13:*.xbm=38;5;13:*.xpm=38;5;13:*.tif=38;5;13:*.tiff=38;5;13:*.png=38;5;13:*.svg=38;5;13:*.svgz=38;5;13:*.mng=38;5;13:*.pcx=38;5;13:*.mov=38;5;13:*.mpg=38;5;13:*.mpeg=38;5;13:*.m2v=38;5;13:*.mkv=38;5;13:*.webm=38;5;13:*.ogm=38;5;13:*.mp4=38;5;13:*.m4v=38;5;13:*.mp4v=38;5;13:*.vob=38;5;13:*.qt=38;5;13:*.nuv=38;5;13:*.wmv=38;5;13:*.asf=38;5;13:*.rm=38;5;13:*.rmvb=38;5;13:*.flc=38;5;13:*.avi=38;5;13:*.fli=38;5;13:*.flv=38;5;13:*.gl=38;5;13:*.dl=38;5;13:*.xcf=38;5;13:*.xwd=38;5;13:*.yuv=38;5;13:*.cgm=38;5;13:*.emf=38;5;13:*.ogv=38;5;13:*.ogx=38;5;13:*.aac=38;5;45:*.au=38;5;45:*.flac=38;5;45:*.m4a=38;5;45:*.mid=38;5;45:*.midi=38;5;45:*.mka=38;5;45:*.mp3=38;5;45:*.mpc=38;5;45:*.ogg=38;5;45:*.ra=38;5;45:*.wav=38;5;45:*.oga=38;5;45:*.opus=38;5;45:*.spx=38;5;45:*.xspf=38;5;45:',\n",
       " 'GDRCOPY_INSTALL_PREFIX': '/usr/local/gdrcopy',\n",
       " 'SGE_O_WORKDIR': '/home/acf16133sf',\n",
       " 'CUDA_VERSION': '11.8.0',\n",
       " 'SGE_CLIENT_NAME': 'qrsh',\n",
       " 'CUDA_QUANTUM_PATH': '/opt/nvidia/cudaq',\n",
       " 'SINGULARITY_CONTAINER': '/home/acf16133sf/cuda-quantum_0.5.0.sif',\n",
       " 'NV_LIBCUBLAS_PACKAGE': 'libcublas-11-8=11.11.3.6-1',\n",
       " 'NSLOTS': '80',\n",
       " 'TMPDIR': '/tmp/41064873.1.gpu',\n",
       " 'SGE_ARCH': 'lx-amd64',\n",
       " 'SGE_TASK_STEPSIZE': 'undefined',\n",
       " 'MUNGE_INSTALL_PREFIX': '/usr/local/munge',\n",
       " 'JOB_NAME': 'QRLOGIN',\n",
       " 'INVOCATION_ID': 'b4a886f41ae64c99b8764b8903812d9e',\n",
       " 'CUTENSOR_VERSION': '1.7.0.1',\n",
       " 'NV_LIBCUBLAS_PACKAGE_NAME': 'libcublas-11-8',\n",
       " 'SGE_CELL': 'abci',\n",
       " 'ARC': 'lx-amd64',\n",
       " 'REQUEST': 'QRLOGIN',\n",
       " 'SGE_SUP_GRP_EVAL_RANGE': '60229',\n",
       " 'SGE_CWD_PATH': '/home/acf16133sf',\n",
       " 'MODULEPATH_modshare': '/apps/modules/modulefiles/rocky8/gpgpu:1:/apps/modules/modulefiles/rocky8/devtools:1:/apps/modules/modulefiles/rocky8/utils:1:/apps/modules/modulefiles/rocky8/compilers:1:/apps/modules/modulefiles/rocky8/mpi:1',\n",
       " 'LOADEDMODULES_modshare': 'singularitypro/3.9:1',\n",
       " 'CUTENSOR_ROOT': '/opt/nvidia/cutensor',\n",
       " 'CUQUANTUM_PATH': '/opt/nvidia/cuquantum',\n",
       " 'TERM': 'xterm-color',\n",
       " 'SGE_HGR_TASK_rt_Gsmall': '0 1 2 3',\n",
       " 'CPLUS_INCLUDE_PATH': ':/opt/nvidia/cudaq/include',\n",
       " 'SGE_STDERR_PATH': '/dev/null',\n",
       " 'LESSOPEN': '||/usr/bin/lesspipe.sh %s',\n",
       " 'USER': 'acf16133sf',\n",
       " 'OPENSSL_ROOT_DIR': '/opt/openssl',\n",
       " 'SGE_HGR_rt_Csmall': '0 1 2 3',\n",
       " 'LIBRARY_PATH': '/usr/local/ofed/5.0-0/lib:/usr/local/gdrcopy/lib64:',\n",
       " 'CUDA_PATH': '/usr/local/cuda-11.8',\n",
       " 'ENVIRONMENT': 'BATCH',\n",
       " 'MPI_ROOT': '/usr/local/openmpi',\n",
       " 'CUDA_ROOT': '/usr/local/cuda-11.8',\n",
       " 'MODULES_RUN_QUARANTINE': 'LD_LIBRARY_PATH LD_PRELOAD',\n",
       " 'CUDA_QUANTUM_VERSION': '0.5.0',\n",
       " 'LOADEDMODULES': 'singularitypro/3.9',\n",
       " 'MODULES_LMCONFLICT_modshare': 'singularitypro/3.9&singularitypro&singularity:1',\n",
       " 'SGE_LOCALDIR': '/local/41064873.1.gpu',\n",
       " 'CUQUANTUM_VERSION': '23.10.0.6_cuda11',\n",
       " 'SHLVL': '4',\n",
       " 'SGE_TASK_LAST': 'undefined',\n",
       " 'SGE_TASK_FIRST': 'undefined',\n",
       " 'SGE_POSIX_PRIORITY': '-450',\n",
       " 'NV_CUDA_LIB_VERSION': '11.8.0-1',\n",
       " 'NVARCH': 'x86_64',\n",
       " 'OPENMPI_INSTALL_PREFIX': '/usr/local/openmpi',\n",
       " 'CVS_RSH': 'ssh',\n",
       " 'PMIX_INSTALL_PREFIX': '/usr/local/pmix',\n",
       " 'SINGULARITY_BIND': '',\n",
       " 'SGE_BINARY_PATH': '/home/system/uge/latest/bin/lx-amd64',\n",
       " 'CUTENSORNET_COMM_LIB': '/opt/nvidia/cuquantum/distributed_interfaces/libcutensornet_distributed_interface_mpi.so',\n",
       " 'SGE_HGR_TASK_rt_Csmall': '0 1 2 3',\n",
       " 'SGE_STDIN_PATH': '/dev/null',\n",
       " 'NV_CUDA_COMPAT_PACKAGE': 'cuda-compat-11-8',\n",
       " 'UCX_MEMTYPE_CACHE': 'n',\n",
       " 'PE': 'perack07',\n",
       " 'SGE_DEDICATED_NAME': 'NONE',\n",
       " 'NV_LIBNCCL_PACKAGE': 'libnccl2=2.15.5-1+cuda11.8',\n",
       " 'LD_LIBRARY_PATH': '/opt/nvidia/cutensor/lib:/opt/nvidia/cuquantum/lib:/usr/local/pmix/lib:/usr/local/nvidia/lib:/usr/local/nvidia/lib64:/lib:/usr/local/ucx/lib:/usr/local/openmpi/lib:/opt/nvidia/cudaq/lib:/.singularity.d/libs',\n",
       " 'SGE_HGR_rt_Gsmall': '0 1 2 3',\n",
       " 'SGE_CLUSTER_NAME': 'abci',\n",
       " 'UCX_MAX_RNDV_RAILS': '1',\n",
       " 'S_COLORS': 'auto',\n",
       " 'PS1': 'Singularity> ',\n",
       " 'UCX_TLS': 'rc,cuda_copy,cuda_ipc,gdr_copy,sm',\n",
       " 'SGE_RESOURCE_NUM': '1',\n",
       " 'NHOSTS': '1',\n",
       " 'which_declare': 'declare -f',\n",
       " 'REQNAME': 'QRLOGIN',\n",
       " 'LC_ALL': 'C.UTF-8',\n",
       " 'SGE_JOB_SPOOL_DIR': '/var/spool/uge/execd/g0225/active_jobs/41064873.1',\n",
       " 'SGE_O_PATH': '/usr/share/Modules/bin:/usr/local/bin:/usr/bin:/usr/local/sbin:/usr/sbin:/home/system/uge/latest/bin/lx-amd64:/home/acf16133sf/.local/bin:/home/acf16133sf/bin',\n",
       " 'CUDA_HOME': '/usr/local/cuda-11.8',\n",
       " 'JOURNAL_STREAM': '9:734815',\n",
       " 'XDG_DATA_DIRS': '/home/acf16133sf/.local/share/flatpak/exports/share:/var/lib/flatpak/exports/share:/usr/local/share:/usr/share',\n",
       " 'SGE_TASK_ID': 'undefined',\n",
       " 'PATH': '/usr/local/cuda-11.8/lib64/:/usr/local/cuda-11.8/bin:/usr/local/openmpi/bin:/usr/local/pmix/bin:/usr/local/nvidia/bin:/usr/local/cuda/bin:/usr/local/sbin:/usr/local/bin:/usr/sbin:/usr/bin:/sbin:/bin:/opt/nvidia/cudaq/bin:/home/cudaq/.local/bin:/home/acf16133sf/.local/bin:/home/acf16133sf/bin',\n",
       " 'SGE_QMASTER_PORT': '16454',\n",
       " 'SGE_HGR_rt_F': '0',\n",
       " 'MODULEPATH': '/apps/modules/modulefiles/rocky8/compilers:/apps/modules/modulefiles/rocky8/devtools:/apps/modules/modulefiles/rocky8/gpgpu:/apps/modules/modulefiles/rocky8/mpi:/apps/modules/modulefiles/rocky8/utils',\n",
       " 'SGE_O_MAIL': '/var/spool/mail/acf16133sf',\n",
       " 'NV_LIBNCCL_PACKAGE_NAME': 'libnccl2',\n",
       " '_LMFILES_': '/apps/modules/modulefiles/rocky8/utils/singularitypro/3.9',\n",
       " 'CUDA_INSTALL_PREFIX': '/usr/local/cuda-11.8',\n",
       " 'NV_LIBNCCL_PACKAGE_VERSION': '2.15.5-1',\n",
       " 'JOB_ID': '41064873',\n",
       " 'MAIL': '/var/spool/mail/acf16133sf',\n",
       " 'TASK_ID': '0',\n",
       " 'SGE_HGR_rt_Clarge': '0',\n",
       " 'CUTENSOR_INSTALL_PREFIX': '/opt/nvidia/cutensor',\n",
       " 'SINGULARITY_COMMAND': 'run',\n",
       " 'RESTARTED': '0',\n",
       " 'CPATH': '/opt/nvidia/cutensor/include:/opt/nvidia/cuquantum/include:/usr/local/openmpi/include:/usr/local/ofed/5.0-0/include:/usr/local/pmix/include:/usr/local/gdrcopy/include:',\n",
       " 'JOB_TASK_ID': '41064873',\n",
       " 'PMI_INSTALL_PREFIX': '/usr/local/pmi',\n",
       " 'SGE_EXECD_PORT': '16455',\n",
       " 'UCX_LOG_LEVEL': 'error',\n",
       " 'QUEUE': 'gpu',\n",
       " 'MODULES_CMD': '/usr/share/Modules/libexec/modulecmd.tcl',\n",
       " 'BASH_FUNC_ml%%': '() {  module ml \"$@\"\\n}',\n",
       " 'BASH_FUNC_switchml%%': '() {  typeset swfound=1;\\n if [ \"${MODULES_USE_COMPAT_VERSION:-0}\" = \\'1\\' ]; then\\n typeset swname=\\'main\\';\\n if [ -e /usr/share/Modules/libexec/modulecmd.tcl ]; then\\n typeset swfound=0;\\n unset MODULES_USE_COMPAT_VERSION;\\n fi;\\n else\\n typeset swname=\\'compatibility\\';\\n if [ -e /usr/share/Modules/libexec/modulecmd-compat ]; then\\n typeset swfound=0;\\n MODULES_USE_COMPAT_VERSION=1;\\n export MODULES_USE_COMPAT_VERSION;\\n fi;\\n fi;\\n if [ $swfound -eq 0 ]; then\\n echo \"Switching to Modules $swname version\";\\n source /usr/share/Modules/init/bash;\\n else\\n echo \"Cannot switch to Modules $swname version, command not found\";\\n return 1;\\n fi\\n}',\n",
       " 'BASH_FUNC_which%%': '() {  ( alias;\\n eval ${which_declare} ) | /usr/bin/which --tty-only --read-alias --read-functions --show-tilde --show-dot $@\\n}',\n",
       " 'BASH_FUNC_module%%': '() {  _module_raw \"$@\" 2>&1\\n}',\n",
       " 'BASH_FUNC__module_raw%%': '() {  unset _mlshdbg;\\n if [ \"${MODULES_SILENT_SHELL_DEBUG:-0}\" = \\'1\\' ]; then\\n case \"$-\" in \\n *v*x*)\\n set +vx;\\n _mlshdbg=\\'vx\\'\\n ;;\\n *v*)\\n set +v;\\n _mlshdbg=\\'v\\'\\n ;;\\n *x*)\\n set +x;\\n _mlshdbg=\\'x\\'\\n ;;\\n *)\\n _mlshdbg=\\'\\'\\n ;;\\n esac;\\n fi;\\n unset _mlre _mlIFS;\\n if [ -n \"${IFS+x}\" ]; then\\n _mlIFS=$IFS;\\n fi;\\n IFS=\\' \\';\\n for _mlv in ${MODULES_RUN_QUARANTINE:-};\\n do\\n if [ \"${_mlv}\" = \"${_mlv##*[!A-Za-z0-9_]}\" -a \"${_mlv}\" = \"${_mlv#[0-9]}\" ]; then\\n if [ -n \"`eval \\'echo ${\\'$_mlv\\'+x}\\'`\" ]; then\\n _mlre=\"${_mlre:-}${_mlv}_modquar=\\'`eval \\'echo ${\\'$_mlv\\'}\\'`\\' \";\\n fi;\\n _mlrv=\"MODULES_RUNENV_${_mlv}\";\\n _mlre=\"${_mlre:-}${_mlv}=\\'`eval \\'echo ${\\'$_mlrv\\':-}\\'`\\' \";\\n fi;\\n done;\\n if [ -n \"${_mlre:-}\" ]; then\\n eval `eval ${_mlre} /usr/bin/tclsh /usr/share/Modules/libexec/modulecmd.tcl bash \\'\"$@\"\\'`;\\n else\\n eval `/usr/bin/tclsh /usr/share/Modules/libexec/modulecmd.tcl bash \"$@\"`;\\n fi;\\n _mlstatus=$?;\\n if [ -n \"${_mlIFS+x}\" ]; then\\n IFS=$_mlIFS;\\n else\\n unset IFS;\\n fi;\\n unset _mlre _mlv _mlrv _mlIFS;\\n if [ -n \"${_mlshdbg:-}\" ]; then\\n set -$_mlshdbg;\\n fi;\\n unset _mlshdbg;\\n return $_mlstatus\\n}',\n",
       " '_': '/usr/local/bin/jupyter-lab',\n",
       " 'PYDEVD_USE_FRAME_EVAL': 'NO',\n",
       " 'JPY_SESSION_NAME': '/home/acf16133sf/cudaq_workshops/VQE.ipynb',\n",
       " 'JPY_PARENT_PID': '965775',\n",
       " 'CLICOLOR': '1',\n",
       " 'FORCE_COLOR': '1',\n",
       " 'CLICOLOR_FORCE': '1',\n",
       " 'PAGER': 'cat',\n",
       " 'GIT_PAGER': 'cat',\n",
       " 'MPLBACKEND': 'module://matplotlib_inline.backend_inline',\n",
       " 'CUDAQ_LOG_LEVEL': 'info'}"
      ]
     },
     "execution_count": 27,
     "metadata": {},
     "output_type": "execute_result"
    }
   ],
   "source": [
    "%env"
   ]
  },
  {
   "cell_type": "code",
   "execution_count": 28,
   "id": "d89bf47c-a655-493f-8d4a-5c19599aec65",
   "metadata": {},
   "outputs": [],
   "source": [
    "import cudaq"
   ]
  },
  {
   "cell_type": "code",
   "execution_count": 29,
   "id": "dc9bf23a-59c7-44ca-a009-2f953971a383",
   "metadata": {},
   "outputs": [],
   "source": [
    "geometry = [('H', (0., 0., 0.)), ('H', (0., 0., .7474))]"
   ]
  },
  {
   "cell_type": "code",
   "execution_count": 30,
   "id": "4f9f6b59-9d95-435b-8c41-3fff1e2fc21c",
   "metadata": {},
   "outputs": [],
   "source": [
    "molecule, data = cudaq.chemistry.create_molecular_hamiltonian(\n",
    "    geometry, 'sto-3g', 1, 0)"
   ]
  },
  {
   "cell_type": "code",
   "execution_count": 31,
   "id": "f98391f2-dc11-4267-862f-c2546f0157f7",
   "metadata": {},
   "outputs": [],
   "source": [
    "electron_count = data.n_electrons\n",
    "qubit_count = 2 * data.n_orbitals"
   ]
  },
  {
   "cell_type": "code",
   "execution_count": 32,
   "id": "92ac95b5-7688-4696-a7ec-481b11410d1a",
   "metadata": {},
   "outputs": [
    {
     "data": {
      "text/plain": [
       "4"
      ]
     },
     "execution_count": 32,
     "metadata": {},
     "output_type": "execute_result"
    }
   ],
   "source": [
    "qubit_count"
   ]
  },
  {
   "cell_type": "code",
   "execution_count": 33,
   "id": "b0a6d0fe-2465-421a-8851-dba4d2fb7ffb",
   "metadata": {},
   "outputs": [],
   "source": [
    "kernel, angles = cudaq.make_kernel(list)\n",
    "qubits = kernel.qalloc(qubit_count)"
   ]
  },
  {
   "cell_type": "code",
   "execution_count": 34,
   "id": "29d1c751-43e4-4f4b-97db-242517a76cef",
   "metadata": {},
   "outputs": [],
   "source": [
    "# Prepare the Hartree Fock State.\n",
    "kernel.x(qubits[0])\n",
    "kernel.x(qubits[1])"
   ]
  },
  {
   "cell_type": "code",
   "execution_count": 35,
   "id": "8b29e867-5869-4df6-8c5e-252045e11d8c",
   "metadata": {},
   "outputs": [],
   "source": [
    "# Adds parameterized gates based on the UCCSD ansatz.\n",
    "cudaq.kernels.uccsd(kernel, qubits, angles, electron_count, qubit_count)"
   ]
  },
  {
   "cell_type": "code",
   "execution_count": 36,
   "id": "51dc65b5-b9d3-4f84-a983-93defcbef1cf",
   "metadata": {},
   "outputs": [],
   "source": [
    "parameter_count = cudaq.kernels.uccsd_num_parameters(electron_count,\n",
    "                                                     qubit_count)\n",
    "\n",
    "optimizer = cudaq.optimizers.COBYLA()\n",
    "\n",
    "energy, parameters = cudaq.vqe(kernel,\n",
    "                               molecule,\n",
    "                               optimizer,\n",
    "                               parameter_count=parameter_count)\n"
   ]
  },
  {
   "cell_type": "code",
   "execution_count": 37,
   "id": "0e02029f-d629-4bbe-a5f7-e2975a81266d",
   "metadata": {},
   "outputs": [
    {
     "name": "stdout",
     "output_type": "stream",
     "text": [
      "-1.1371756094989427\n"
     ]
    }
   ],
   "source": [
    "print(energy)"
   ]
  },
  {
   "cell_type": "code",
   "execution_count": null,
   "id": "ebeab646-3629-4e39-b547-0ee63b87c9a0",
   "metadata": {},
   "outputs": [],
   "source": []
  }
 ],
 "metadata": {
  "kernelspec": {
   "display_name": "Python 3 (ipykernel)",
   "language": "python",
   "name": "python3"
  },
  "language_info": {
   "codemirror_mode": {
    "name": "ipython",
    "version": 3
   },
   "file_extension": ".py",
   "mimetype": "text/x-python",
   "name": "python",
   "nbconvert_exporter": "python",
   "pygments_lexer": "ipython3",
   "version": "3.10.12"
  }
 },
 "nbformat": 4,
 "nbformat_minor": 5
}
