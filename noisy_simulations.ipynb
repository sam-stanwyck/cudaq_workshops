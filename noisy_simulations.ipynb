{
 "cells": [
  {
   "cell_type": "code",
   "execution_count": 1,
   "id": "e89e963f-44db-4353-a416-27bd5adeb066",
   "metadata": {},
   "outputs": [],
   "source": [
    "import cudaq\n",
    "import numpy as np\n",
    "\n",
    "# To model quantum noise, we need to utilise the density matrix simulator target.\n",
    "cudaq.set_target(\"density-matrix-cpu\")"
   ]
  },
  {
   "cell_type": "code",
   "execution_count": 2,
   "id": "cd45515a-d045-4ce3-84d8-b468af72f766",
   "metadata": {},
   "outputs": [],
   "source": [
    "# Let's define a simple kernel that we will add noise to.\n",
    "qubit_count = 2\n",
    "\n",
    "kernel = cudaq.make_kernel()\n",
    "qubits = kernel.qalloc(qubit_count)\n",
    "\n",
    "kernel.x(qubits[0])\n",
    "kernel.x(qubits[1])"
   ]
  },
  {
   "cell_type": "code",
   "execution_count": 3,
   "id": "3c5a8419-8b79-481a-958a-09eccfe35d3e",
   "metadata": {},
   "outputs": [
    {
     "name": "stdout",
     "output_type": "stream",
     "text": [
      "{ 11:1000 }\n",
      "\n"
     ]
    }
   ],
   "source": [
    "# In the ideal noiseless case, we get |11> 100% of the time.\n",
    "\n",
    "ideal_counts = cudaq.sample(kernel, shots_count=1000)\n",
    "print(ideal_counts)"
   ]
  },
  {
   "cell_type": "code",
   "execution_count": 4,
   "id": "4642b17a-79d5-41a7-9c8f-4bb87e3668ae",
   "metadata": {},
   "outputs": [],
   "source": [
    "# First, we will define an out of the box noise channel. In this case,\n",
    "# we choose depolarization noise. This depolarization will result in\n",
    "# the qubit state decaying into a mix of the basis states, |0> and |1>,\n",
    "# with our provided probability.\n",
    "error_probability = 0.1\n",
    "depolarization_channel = cudaq.DepolarizationChannel(error_probability)"
   ]
  },
  {
   "cell_type": "code",
   "execution_count": 5,
   "id": "7cff6adc-84d3-47ba-b8b5-bbf510124eee",
   "metadata": {},
   "outputs": [],
   "source": [
    "# We can also define our own, custom noise channels through\n",
    "# Kraus Operator's. Here we will define two operators repsenting\n",
    "# bit flip errors.\n",
    "\n",
    "# Define the Kraus Error Operator as a complex ndarray.\n",
    "kraus_0 = np.sqrt(1 - error_probability) * np.array([[1.0, 0.0], [0.0, 1.0]],\n",
    "                                                    dtype=np.complex128)\n",
    "kraus_1 = np.sqrt(error_probability) * np.array([[0.0, 1.0], [1.0, 0.0]],\n",
    "                                                dtype=np.complex128)"
   ]
  },
  {
   "cell_type": "code",
   "execution_count": 6,
   "id": "1e592d82-e325-4b45-998b-29c594998c2e",
   "metadata": {},
   "outputs": [],
   "source": [
    "# Add the Kraus Operator to create a quantum channel.\n",
    "bitflip_channel = cudaq.KrausChannel([kraus_0, kraus_1])\n",
    "\n",
    "# Define an empty Noise Model to add the channels to\n",
    "noise_model = cudaq.NoiseModel()"
   ]
  },
  {
   "cell_type": "code",
   "execution_count": 7,
   "id": "bc90694c-0700-4a98-9560-4a85b3a42991",
   "metadata": {},
   "outputs": [],
   "source": [
    "# Apply the depolarization channel to any X-gate on the 0th qubit.\n",
    "noise_model.add_channel(\"x\", [0], depolarization_channel)\n",
    "# Apply the bitflip channel to any X-gate on the 1st qubit.\n",
    "noise_model.add_channel(\"x\", [1], bitflip_channel)"
   ]
  },
  {
   "cell_type": "code",
   "execution_count": 8,
   "id": "9d795846-52a1-44ab-822d-82a72d7bffed",
   "metadata": {},
   "outputs": [
    {
     "name": "stdout",
     "output_type": "stream",
     "text": [
      "{ 11:831 10:98 01:65 00:6 }\n",
      "\n"
     ]
    }
   ],
   "source": [
    "# Due to the impact of noise, our measurements will no longer be uniformly\n",
    "# in the |11> state.\n",
    "noisy_counts = cudaq.sample(kernel, noise_model=noise_model, shots_count=1000)\n",
    "print(noisy_counts)"
   ]
  }
 ],
 "metadata": {
  "kernelspec": {
   "display_name": "Python 3 (ipykernel)",
   "language": "python",
   "name": "python3"
  },
  "language_info": {
   "codemirror_mode": {
    "name": "ipython",
    "version": 3
   },
   "file_extension": ".py",
   "mimetype": "text/x-python",
   "name": "python",
   "nbconvert_exporter": "python",
   "pygments_lexer": "ipython3",
   "version": "3.10.12"
  }
 },
 "nbformat": 4,
 "nbformat_minor": 5
}
